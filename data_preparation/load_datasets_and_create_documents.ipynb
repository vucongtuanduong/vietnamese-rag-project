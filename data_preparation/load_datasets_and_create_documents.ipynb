{
 "cells": [
  {
   "cell_type": "code",
   "execution_count": 40,
   "id": "47044a87-0b67-46bc-a7aa-540432c7d982",
   "metadata": {},
   "outputs": [],
   "source": [
    "import json\n",
    "from datasets import load_dataset\n",
    "from tqdm.auto import tqdm"
   ]
  },
  {
   "cell_type": "code",
   "execution_count": 42,
   "id": "e43fe467-d4dd-47d8-b483-85adfeadd483",
   "metadata": {},
   "outputs": [],
   "source": [
    "rag_dataset = load_dataset(\"DuyTa/vi_RAG\", 'BKAI_RAG')"
   ]
  },
  {
   "cell_type": "code",
   "execution_count": 43,
   "id": "fc468083-d87c-47ca-bb43-940ab2be6e4d",
   "metadata": {},
   "outputs": [],
   "source": [
    "rag_dataset1 = load_dataset(\"DuyTa/vi_RAG\", 'LegalRAG')"
   ]
  },
  {
   "cell_type": "code",
   "execution_count": 44,
   "id": "b666987a-f549-4e44-881d-c4eb8117bcca",
   "metadata": {},
   "outputs": [],
   "source": [
    "rag_dataset2 = load_dataset(\"DuyTa/vi_RAG\", 'expert')"
   ]
  },
  {
   "cell_type": "code",
   "execution_count": 45,
   "id": "596d042a-7fa0-4f82-b767-1ff8919d01f1",
   "metadata": {},
   "outputs": [],
   "source": [
    "instances_list = []"
   ]
  },
  {
   "cell_type": "code",
   "execution_count": 46,
   "id": "e4e42178-bb45-4481-aa33-22e42c0c1752",
   "metadata": {},
   "outputs": [],
   "source": [
    "def create_data_json(rag_dataset, group_name):\n",
    "    # Iterate over each instance in the 'train' split\n",
    "    for instance in rag_dataset['train']:\n",
    "        # Create a dictionary for the current instance and append it to the list\n",
    "        instances_list.append({\n",
    "            \"group\": group_name,\n",
    "            \"context\": ''.join(instance[\"context\"][0]),\n",
    "            \"question\": instance[\"question\"],\n",
    "            \"answer\": instance[\"answer\"]\n",
    "        })"
   ]
  },
  {
   "cell_type": "code",
   "execution_count": 47,
   "id": "52d38560-2897-4a05-859b-c71f089f65c2",
   "metadata": {},
   "outputs": [],
   "source": [
    "create_data_json(rag_dataset, \"General\")\n",
    "create_data_json(rag_dataset1, \"Legal\")"
   ]
  },
  {
   "cell_type": "code",
   "execution_count": 48,
   "id": "2c4823fc-8320-491c-8fdc-bba1ce42f7c7",
   "metadata": {},
   "outputs": [],
   "source": [
    "for instance in rag_dataset2['train']:\n",
    "        # Create a dictionary for the current instance and append it to the list\n",
    "        instances_list.append({\n",
    "            \"group\": \"Expert\",\n",
    "            \"context\": instance[\"revised_claims\"],\n",
    "            \"question\": instance[\"question\"],\n",
    "            \"answer\": instance[\"revised_answer\"]\n",
    "        })"
   ]
  },
  {
   "cell_type": "code",
   "execution_count": 49,
   "id": "741fddd0-e097-45b2-93d4-5365f24260ab",
   "metadata": {},
   "outputs": [
    {
     "data": {
      "text/plain": [
       "{'group': 'General',\n",
       " 'context': \"ngữ cảnh 1: Vượt qua nỗi sợ hãi, Minh Tú xuất sắc vào chung kết Asia's Next Top Model.  Bỏ qua hết những lo lắng về căn bệnh tim, Minh Tú đã hết sức chế ngự sự sợ hãi và hoàn thành tốt phần thử thách đi catwalk khi bị treo lơ lửng trên một tòa nhà cao tầng và dành chiếc vé vào đêm chung kết Asia’s Next Top Model..  Tối ngày 21/6, tập 12 của chương trình Asia’ Next Top Model mùa thứ 5 đã được lên sóng. 4 thí sinh cùng giám khảo bí mật Xiao Qing bước vào phần thi thử thách đặc biệt là đi catwalk khi bị treo lơ lửng trên một tòa nhà cao tầng. Các cô gái phải vừa tạo dáng vừa thể hiện được sự mạnh mẽ, quyến rũ riêng.. Mặc dù có bệnh về tim nhưng Minh Tú đã cố gắng hết sức chế ngự sự sợ hãi và hoàn thành tốt phần thử thách này. Thí sinh chiến thắng là Shikin và đại diện Việt Nam cũng không kém cạnh gì khi xuất sắc xếp ở vị trí thứ 2, báo GĐVN đưa tin.. Bước vào thử thách, Minh Tú hét lớn: “Tôi còn nhiều việc chưa làm được đâu” vì sợ sẽ rơi xuống tuy nhiên chỉ sau vài bước đi, cô hoàn toàn xác định được cách catwalk. Càng tiến tới, Minh Tú càng cảm thấy thú vị, nỗi sợ hãi dần biến mất và tự tin tạo dáng giữa đường đi, nở nụ cười suốt 6 tầng lầu.. Minh Tú đã cố gắng hết sức chế ngự sự sợ hãi và hoàn thành tốt phần thử thách khó khăn này. Ảnh chụp màn hình. Theo tin tức trên báo VTC, chủ đề của buổi chụp ảnh loại trừ tuần này do chính thí sinh tạo nên từ đạo cụ, trang phục có sẵn. Minh Tú chọn cho mình hình ảnh một phụ nữ cổ điển và thành đạt đề giúp cô kiềm chế được nét gợi cảm của mình. Người đẹp nỗ lực không tạo dáng quá nhiều mà tập trung vào cơ mặt và nhân vật.. Minh Tú có bức hình đẹp thứ 2 và chắc chắn giành chiếc vé vào đêm chung kết. Ảnh: SW. Một lần nữa, Minh Tú lại nhận được sự tán thưởng từ dàn giám khảo. Giám đốc sáng tạo Yu Tsai cho biết anh “ngã mũ” trước phần thể hiện của Minh Tú. Sau khi “lộ mặt” là một giám khảo ẩn danh, cựu người mẫu Xiaoqing chia sẻ Minh Tú ngoài đam mê còn ẩn chứa tính cách triết lý và cho biết Minh Tú sẵn sàng cạnh tranh với một thí sinh mới chứ không hề kêu ca bất công.. Kết quả chung cuộc, Shikin là thí sinh có bức hình đẹp nhất. Về thứ 2 là Minh Tú và thứ 3 là Maureen. Clara là thí sinh bị loại trong tuần này. Như vậy, đại diện của Việt Nam đã tạo nên kỳ tích khi chính thức được bước vào Chung kết “Asia’s Next Top Model” năm nay để giành ngôi vị quán quân.\",\n",
       " 'question': 'Minh Tú đã đạt được thành tích gì trong chương trình Asia’ Next Top Model mùa thứ 5?',\n",
       " 'answer': 'Minh Tú đã vượt qua sự sợ hãi để hoàn thành tốt phần thử thách đi catwalk khi bị treo lơ lửng trên một tòa nhà cao tầng và đạt vị trí thứ 2 trong đêm chung kết của chương trình.'}"
      ]
     },
     "execution_count": 49,
     "metadata": {},
     "output_type": "execute_result"
    }
   ],
   "source": [
    "instances_list[0]"
   ]
  },
  {
   "cell_type": "code",
   "execution_count": 50,
   "id": "14825a69-15bf-4b41-9038-2a547282cc42",
   "metadata": {},
   "outputs": [
    {
     "name": "stderr",
     "output_type": "stream",
     "text": [
      "100%|█████████████████| 6089/6089 [00:00<00:00, 1310168.63it/s]"
     ]
    },
    {
     "name": "stdout",
     "output_type": "stream",
     "text": [
      "No context\n",
      "No context\n",
      "No context\n"
     ]
    },
    {
     "name": "stderr",
     "output_type": "stream",
     "text": [
      "\n"
     ]
    }
   ],
   "source": [
    "for doc in tqdm(instances_list):\n",
    "    context = doc['context']\n",
    "    if context is None:\n",
    "        doc['context'] = 'Ngữ cảnh không được cung cấp'\n",
    "        print(\"No context\")"
   ]
  },
  {
   "cell_type": "code",
   "execution_count": 51,
   "id": "374b29d2-ad14-44b2-820f-433bb6d1670c",
   "metadata": {},
   "outputs": [],
   "source": [
    "# Save the list of instances to a JSON file\n",
    "with open('../data/vietnamese_rag/documents.json', 'w', encoding='utf-8') as f:\n",
    "    json.dump(instances_list, f, ensure_ascii=False, indent=4)"
   ]
  },
  {
   "cell_type": "code",
   "execution_count": 52,
   "id": "c668fa1f-d77d-471b-aa5f-76704fe6c48a",
   "metadata": {},
   "outputs": [],
   "source": [
    "with open('../data/vietnamese_rag/documents.json', 'rt') as f_in:\n",
    "    documents = json.load(f_in)"
   ]
  },
  {
   "cell_type": "markdown",
   "id": "f3386a39-4f75-4192-8d67-6337c15745d0",
   "metadata": {},
   "source": [
    "## Create documents with ID\n"
   ]
  },
  {
   "cell_type": "code",
   "execution_count": 53,
   "id": "4f33c6c8-e29d-4ba2-bcd8-dbf4d4b6b0c2",
   "metadata": {},
   "outputs": [],
   "source": [
    "import hashlib\n",
    "\n",
    "def generate_document_id(doc):\n",
    "    # combined = f\"{doc['course']}-{doc['question']}\"\n",
    "    combined = f\"{doc['group']}-{doc['question']}-{doc['context']}-{doc['answer']}\"\n",
    "    hash_object = hashlib.md5(combined.encode())\n",
    "    hash_hex = hash_object.hexdigest()\n",
    "    document_id = hash_hex[:8]\n",
    "    return document_id\n",
    "for doc in documents:\n",
    "    doc['id'] = generate_document_id(doc)"
   ]
  },
  {
   "cell_type": "code",
   "execution_count": 54,
   "id": "e163fc72-0965-4c31-8980-7549a5de8d8d",
   "metadata": {},
   "outputs": [],
   "source": [
    "with open('../data/vietnamese_rag/documents-with-ids.json', 'wt') as f_out:\n",
    "    json.dump(documents , f_out, indent=2)"
   ]
  },
  {
   "cell_type": "code",
   "execution_count": null,
   "id": "53f75378-1f10-4a17-a9a8-b2e9148cb8e7",
   "metadata": {},
   "outputs": [],
   "source": []
  }
 ],
 "metadata": {
  "kernelspec": {
   "display_name": "Python 3 (ipykernel)",
   "language": "python",
   "name": "python3"
  },
  "language_info": {
   "codemirror_mode": {
    "name": "ipython",
    "version": 3
   },
   "file_extension": ".py",
   "mimetype": "text/x-python",
   "name": "python",
   "nbconvert_exporter": "python",
   "pygments_lexer": "ipython3",
   "version": "3.12.1"
  }
 },
 "nbformat": 4,
 "nbformat_minor": 5
}
